{
 "cells": [
  {
   "cell_type": "markdown",
   "id": "bf1be1b2f55b62c0",
   "metadata": {},
   "source": [
    "# Food Classification with CNN - Building a Restaurant Recommendation System\n",
    "\n",
    "This assignment focuses on developing a deep learning-based food classification system using Convolutional Neural Networks (CNNs). You will build a model that can recognize different food categories and use it to return the food preferences of a user.\n",
    "\n",
    "## Learning Objectives\n",
    "- Implement CNNs for image classification\n",
    "- Work with real-world food image datasets\n",
    "- Build a preference-detector system\n",
    "\n",
    "## Background: AI-Powered Food Preference Discovery\n",
    "\n",
    "The system's core idea is simple:\n",
    "\n",
    "1. Users upload 10 photos of dishes they enjoy\n",
    "2. Your CNN classifies these images into the 91 categories\n",
    "3. Based on these categories, the system returns the user's taste profile\n",
    "\n",
    "Your task is to develop the core computer vision component that will power this detection engine.\n",
    "\n",
    "You are given a training (\"train\" folder) and a test (\"test\" folder) dataset which have ~45k and ~22k samples respectively. For each one of the 91 classes there is a subdirectory containing the images of the respective class.\n",
    "\n",
    "## Assignment Requirements\n",
    "\n",
    "### Technical Requirements\n",
    "- Implement your own pytorch CNN architecture for food image classification\n",
    "- Use only the provided training dataset split for training\n",
    "- Train the network from scratch ; No pretrained weights can be used\n",
    "- Report test-accuracy after every epoch\n",
    "- Report all hyperparameters of final model\n",
    "- Use a fixed seed and do not use any CUDA-features that break reproducibility\n",
    "- Use Pytorch 2.6\n",
    "\n",
    "### Deliverables\n",
    "1. Jupyter Notebook with CNN implementation, training code etc.\n",
    "2. README file\n",
    "3. Report (max 3 pages)\n",
    "\n",
    "Submit your report, README and all code files as a single zip file named GROUP_[number]_NC2425_PA. The names and IDs of the group components must be mentioned in the README.\n",
    "Do not include the dataset in your submission.\n",
    "\n",
    "### Grading\n",
    "\n",
    "1. Correct CNN implementation, training runs on the uni DSLab computers according to the README.MD instructions without ANY exceptions on the DSLab machines: 3pt\n",
    "2. Perfect 1:1 reproducibility on DSLab machines: 1pt\n",
    "3. Very clear github-repo-style README.MD with instructions for running the code: 1pt\n",
    "4. Report: 1pt\n",
    "5. Model test performance on test-set: interpolated from 30-80% test-accuracy: 0-3pt\n",
    "6. Pick 10 random pictures of the test set to simulate a user uploading images and report which categories occur how often in these: 1pt\n",
    "7. Bonus point: use an LLM (API) to generate short description / profile of preferences of the simulated user\n",
    "\n",
    "**If there is anything unclear about this assignment please post your question in the Brightspace discussions forum or send an email**\n"
   ]
  },
  {
   "cell_type": "markdown",
   "id": "74c222e5c4ff1b26",
   "metadata": {},
   "source": [
    "# Loading the datasets\n",
    "The dataset is already split into a train and test set in the directories \"train\" and \"test\". "
   ]
  },
  {
   "cell_type": "code",
   "execution_count": 1,
   "id": "aed23ce7b9cbfbf3",
   "metadata": {},
   "outputs": [
    {
     "name": "stdout",
     "output_type": "stream",
     "text": [
      "Class names: ['beet_salad', 'beignets', 'bibimbap', 'bread_pudding', 'breakfast_burrito', 'bruschetta', 'caesar_salad', 'cannoli', 'caprese_salad', 'carrot_cake', 'ceviche', 'cheese_plate', 'cheesecake', 'chicken_curry', 'chicken_quesadilla', 'chicken_wings', 'chocolate_cake', 'chocolate_mousse', 'churros', 'clam_chowder', 'club_sandwich', 'crab_cakes', 'creme_brulee', 'croque_madame', 'cup_cakes', 'deviled_eggs', 'donuts', 'dumplings', 'edamame', 'eggs_benedict', 'escargots', 'falafel', 'filet_mignon', 'fish_and_chips', 'foie_gras', 'french_fries', 'french_onion_soup', 'french_toast', 'fried_calamari', 'fried_rice', 'frozen_yogurt', 'garlic_bread', 'gnocchi', 'greek_salad', 'grilled_cheese_sandwich', 'grilled_salmon', 'guacamole', 'gyoza', 'hamburger', 'hot_and_sour_soup', 'hot_dog', 'huevos_rancheros', 'hummus', 'ice_cream', 'lasagna', 'lobster_bisque', 'lobster_roll_sandwich', 'macaroni_and_cheese', 'macarons', 'miso_soup', 'mussels', 'nachos', 'omelette', 'onion_rings', 'oysters', 'pad_thai', 'paella', 'pancakes', 'panna_cotta', 'peking_duck', 'pho', 'pizza', 'pork_chop', 'poutine', 'prime_rib', 'pulled_pork_sandwich', 'ramen', 'ravioli', 'red_velvet_cake', 'risotto', 'samosa', 'sashimi', 'scallops', 'seaweed_salad', 'shrimp_and_grits', 'spaghetti_bolognese', 'spaghetti_carbonara', 'spring_rolls', 'steak', 'strawberry_shortcake', 'sushi']\n",
      "Class to index mapping: {'beet_salad': 0, 'beignets': 1, 'bibimbap': 2, 'bread_pudding': 3, 'breakfast_burrito': 4, 'bruschetta': 5, 'caesar_salad': 6, 'cannoli': 7, 'caprese_salad': 8, 'carrot_cake': 9, 'ceviche': 10, 'cheese_plate': 11, 'cheesecake': 12, 'chicken_curry': 13, 'chicken_quesadilla': 14, 'chicken_wings': 15, 'chocolate_cake': 16, 'chocolate_mousse': 17, 'churros': 18, 'clam_chowder': 19, 'club_sandwich': 20, 'crab_cakes': 21, 'creme_brulee': 22, 'croque_madame': 23, 'cup_cakes': 24, 'deviled_eggs': 25, 'donuts': 26, 'dumplings': 27, 'edamame': 28, 'eggs_benedict': 29, 'escargots': 30, 'falafel': 31, 'filet_mignon': 32, 'fish_and_chips': 33, 'foie_gras': 34, 'french_fries': 35, 'french_onion_soup': 36, 'french_toast': 37, 'fried_calamari': 38, 'fried_rice': 39, 'frozen_yogurt': 40, 'garlic_bread': 41, 'gnocchi': 42, 'greek_salad': 43, 'grilled_cheese_sandwich': 44, 'grilled_salmon': 45, 'guacamole': 46, 'gyoza': 47, 'hamburger': 48, 'hot_and_sour_soup': 49, 'hot_dog': 50, 'huevos_rancheros': 51, 'hummus': 52, 'ice_cream': 53, 'lasagna': 54, 'lobster_bisque': 55, 'lobster_roll_sandwich': 56, 'macaroni_and_cheese': 57, 'macarons': 58, 'miso_soup': 59, 'mussels': 60, 'nachos': 61, 'omelette': 62, 'onion_rings': 63, 'oysters': 64, 'pad_thai': 65, 'paella': 66, 'pancakes': 67, 'panna_cotta': 68, 'peking_duck': 69, 'pho': 70, 'pizza': 71, 'pork_chop': 72, 'poutine': 73, 'prime_rib': 74, 'pulled_pork_sandwich': 75, 'ramen': 76, 'ravioli': 77, 'red_velvet_cake': 78, 'risotto': 79, 'samosa': 80, 'sashimi': 81, 'scallops': 82, 'seaweed_salad': 83, 'shrimp_and_grits': 84, 'spaghetti_bolognese': 85, 'spaghetti_carbonara': 86, 'spring_rolls': 87, 'steak': 88, 'strawberry_shortcake': 89, 'sushi': 90}\n",
      "Labels: tensor([42, 50, 88, 81, 81, 56, 61, 17,  2, 48, 38, 18, 44, 43, 14, 15, 21, 83,\n",
      "        64, 86,  0, 70, 55, 19, 52, 56, 42, 70, 32, 14, 76, 51])\n",
      "Labels as class names: ['gnocchi', 'hot_dog', 'steak', 'sashimi', 'sashimi', 'lobster_roll_sandwich', 'nachos', 'chocolate_mousse', 'bibimbap', 'hamburger', 'fried_calamari', 'churros', 'grilled_cheese_sandwich', 'greek_salad', 'chicken_quesadilla', 'chicken_wings', 'crab_cakes', 'seaweed_salad', 'oysters', 'spaghetti_carbonara', 'beet_salad', 'pho', 'lobster_bisque', 'clam_chowder', 'hummus', 'lobster_roll_sandwich', 'gnocchi', 'pho', 'filet_mignon', 'chicken_quesadilla', 'ramen', 'huevos_rancheros']\n"
     ]
    }
   ],
   "source": [
    "import torch\n",
    "import numpy as np\n",
    "from torchvision import datasets, transforms\n",
    "from torch.utils.data import DataLoader\n",
    "\n",
    "\n",
    "random_seed = 42\n",
    "np.random.seed(random_seed)\n",
    "torch.manual_seed(random_seed)\n",
    "torch.cuda.manual_seed(random_seed)\n",
    "torch.cuda.manual_seed_all(random_seed)\n",
    "device = torch.device(\"cuda\" if torch.cuda.is_available() else \"cpu\")\n",
    "\n",
    "\n",
    "transform = transforms.Compose([\n",
    "    transforms.Resize((256, 256)),  # not all images are exactly 256x256\n",
    "    transforms.ToTensor(),     \n",
    "\n",
    "    # TO DO: understand/explain why these parameters are suggested\n",
    "    transforms.Normalize(mean=[0.485, 0.456, 0.406], std=[0.229, 0.224, 0.225])  # Normalize with ImageNet stats\n",
    "])\n",
    "\n",
    "# Automatically download the dataset and associate folder names as labels\n",
    "train_dataset = datasets.ImageFolder(root='train', transform=transform)\n",
    "test_dataset = datasets.ImageFolder(root='test', transform=transform)\n",
    "\n",
    "\n",
    "class_names = train_dataset.classes\n",
    "print(\"Class names:\", class_names)\n",
    "\n",
    "class_to_idx = train_dataset.class_to_idx\n",
    "print(\"Class to index mapping:\", class_to_idx)\n",
    "\n",
    "# Create a DataLoader for the subset\n",
    "\n",
    "train_loader = DataLoader(dataset=train_dataset, batch_size=32, shuffle=True, num_workers=4)\n",
    "test_loader = DataLoader(dataset=test_dataset, batch_size=32, shuffle=True, num_workers=4)\n",
    "\n",
    "\n",
    "for images, labels in train_loader:\n",
    "    print(\"Labels:\", labels)  # Print the labels for the batch\n",
    "    print(\"Labels as class names:\", [class_names[label] for label in labels])  # Convert labels to class names\n",
    "    break\n"
   ]
  },
  {
   "cell_type": "markdown",
   "id": "2f7bb30ae14ffa42",
   "metadata": {},
   "source": [
    "# CNN Implementation"
   ]
  },
  {
   "cell_type": "code",
   "execution_count": null,
   "id": "cb4855a7fbfb90ec",
   "metadata": {},
   "outputs": [],
   "source": [
    "# Your code here\n",
    "\n",
    "import torch.nn as nn\n",
    "import torch.nn.functional as F\n",
    "\n",
    "class FoodCNN(nn.Module):\n",
    "    def __init__(self):\n",
    "        super().__init__()\n",
    "\n",
    "        # Pre-made layers: input channel, output channel, kernel size; keep original size using padding=1\n",
    "        self.conv1 = nn.Conv2d(3, 32, 3, padding=1)\n",
    "        self.conv2 = nn.Conv2d(32, 64, 3, padding=1)\n",
    "        self.conv3 = nn.Conv2d(64, 128, 3, padding=1)\n",
    "        self.conv4 = nn.Conv2d(128, 256, 3, padding=1)\n",
    "\n",
    "        self.max_pool = nn.MaxPool2d(2, 2)\n",
    "        self.avg_pool = nn.AdaptiveAvgPool2d((4, 4))\n",
    "\n",
    "        self.fc1 = nn.Linear(256*16, 512)\n",
    "        self.fc2 = nn.Linear(512, 256)\n",
    "        self.fc3 = nn.Linear(256, len(class_names))\n",
    "\n",
    "    def forward(self, x):\n",
    "        x = self.max_pool(F.relu(self.conv1(x)))\n",
    "        x = self.max_pool(F.relu(self.conv2(x)))\n",
    "        x = self.max_pool(F.relu(self.conv3(x)))\n",
    "        x = self.max_pool(F.relu(self.conv4(x)))\n",
    "\n",
    "        x = self.avg_pool(x)\n",
    "        x = x.view(x.size(0), -1)\n",
    "\n",
    "        x = F.relu(self.fc1(x))\n",
    "        x = F.relu(self.fc2(x))\n",
    "        x = self.fc3(x)\n",
    "       \n",
    "        return x\n"
   ]
  },
  {
   "cell_type": "markdown",
   "id": "8c602d154e795a27",
   "metadata": {},
   "source": [
    "# Training the model\n",
    "Implement your training process below. Report the test-accuracy after every epoch for the training run of the final model.\n",
    "\n",
    "Hint: before training your model make sure to reset the seed in the training cell, as otherwise the seed may have changed due to previous training runs in the notebook\n",
    "\n",
    "Note: If you implement automatic hyperparameter tuning, split the train set into train and validation subsets for the objective function."
   ]
  },
  {
   "cell_type": "code",
   "execution_count": 3,
   "id": "7ff7d9d84c06f5d8",
   "metadata": {},
   "outputs": [
    {
     "name": "stdout",
     "output_type": "stream",
     "text": [
      "Epoch 1 begin: 2025-04-28 21:10:20.127317.\n",
      "Took 138.39043998718262.\n",
      "Epoch [1/20], Loss: 4.1631\n",
      "Epoch 2 begin: 2025-04-28 21:12:38.520089.\n",
      "Took 136.31068563461304.\n",
      "Epoch [2/20], Loss: 3.9678\n",
      "Epoch 3 begin: 2025-04-28 21:14:54.831339.\n",
      "Took 149.64914560317993.\n",
      "Epoch [3/20], Loss: 3.7521\n",
      "Epoch 4 begin: 2025-04-28 21:17:24.481044.\n",
      "Took 148.90166997909546.\n",
      "Epoch [4/20], Loss: 3.5763\n",
      "Epoch 5 begin: 2025-04-28 21:19:53.383081.\n",
      "Took 133.5493290424347.\n",
      "Epoch [5/20], Loss: 3.4318\n",
      "Epoch 6 begin: 2025-04-28 21:22:06.932934.\n",
      "Took 133.7455472946167.\n",
      "Epoch [6/20], Loss: 3.5253\n",
      "Epoch 7 begin: 2025-04-28 21:24:20.679133.\n",
      "Took 135.46271896362305.\n",
      "Epoch [7/20], Loss: 2.9668\n",
      "Epoch 8 begin: 2025-04-28 21:26:36.142253.\n",
      "Took 133.73534035682678.\n",
      "Epoch [8/20], Loss: 3.1541\n",
      "Epoch 9 begin: 2025-04-28 21:28:49.878020.\n",
      "Took 132.78778767585754.\n",
      "Epoch [9/20], Loss: 2.6224\n",
      "Epoch 10 begin: 2025-04-28 21:31:02.666251.\n",
      "Took 134.89329624176025.\n",
      "Epoch [10/20], Loss: 2.5599\n",
      "Epoch 11 begin: 2025-04-28 21:33:17.560084.\n",
      "Took 141.2307152748108.\n",
      "Epoch [11/20], Loss: 2.6995\n",
      "Epoch 12 begin: 2025-04-28 21:35:38.791272.\n",
      "Took 135.22447752952576.\n",
      "Epoch [12/20], Loss: 2.4308\n",
      "Epoch 13 begin: 2025-04-28 21:37:54.016235.\n",
      "Took 134.09377121925354.\n",
      "Epoch [13/20], Loss: 2.6908\n",
      "Epoch 14 begin: 2025-04-28 21:40:08.110575.\n",
      "Took 134.30001258850098.\n",
      "Epoch [14/20], Loss: 1.9986\n",
      "Epoch 15 begin: 2025-04-28 21:42:22.411025.\n",
      "Took 133.95238065719604.\n",
      "Epoch [15/20], Loss: 1.8354\n",
      "Epoch 16 begin: 2025-04-28 21:44:36.363719.\n",
      "Took 134.5617163181305.\n",
      "Epoch [16/20], Loss: 2.3461\n",
      "Epoch 17 begin: 2025-04-28 21:46:50.925823.\n",
      "Took 140.98889541625977.\n",
      "Epoch [17/20], Loss: 1.7169\n",
      "Epoch 18 begin: 2025-04-28 21:49:11.914981.\n",
      "Took 136.05829191207886.\n",
      "Epoch [18/20], Loss: 1.3118\n",
      "Epoch 19 begin: 2025-04-28 21:51:27.973681.\n",
      "Took 134.69367504119873.\n",
      "Epoch [19/20], Loss: 1.7948\n",
      "Epoch 20 begin: 2025-04-28 21:53:42.667854.\n",
      "Took 135.18669080734253.\n",
      "Epoch [20/20], Loss: 1.7651\n"
     ]
    }
   ],
   "source": [
    "import datetime as dt\n",
    "import time\n",
    "\n",
    "\n",
    "# Set the variables for training\n",
    "batch_size = 32\n",
    "num_classes = len(class_names)\n",
    "learning_rate = 0.001\n",
    "num_epochs = 20\n",
    "\n",
    "\n",
    "# Train and validate the CNN model\n",
    "model = FoodCNN().to(device)\n",
    "# print(model)\n",
    "\n",
    "# Set Loss function --- SOLUTION\n",
    "loss_fn = nn.CrossEntropyLoss() \n",
    "\n",
    "# Set optimizer \n",
    "optimizer = torch.optim.Adam(model.parameters(), lr=learning_rate) #??? , weight_decay = 0.005, momentum = 0.9) # Define the optimizer\n",
    "\n",
    "for epoch in range(num_epochs):\n",
    "\t#Load data in batches\n",
    "    print(f\"Epoch {epoch+1} begin: {dt.datetime.now()}.\")\n",
    "    start = time.time()\n",
    "    for i, (images, labels) in enumerate(train_loader):\n",
    "\n",
    "        images = images.to(device)\n",
    "        labels = labels.to(device)\n",
    "\n",
    "        # Forward pass\n",
    "        outputs = model(images)\n",
    "        loss = loss_fn(outputs, labels)\n",
    "\n",
    "        # Backward and optimize\n",
    "        optimizer.zero_grad()\n",
    "        loss.backward()\n",
    "        optimizer.step()\n",
    "    print(\"Took {:.4f} seconds.\".format((time.time() - start)))\n",
    "\n",
    "    print('Epoch [{}/{}], Loss: {:.4f}'.format(epoch+1, num_epochs, loss.item()))"
   ]
  },
  {
   "cell_type": "code",
   "execution_count": 5,
   "id": "ad34673c",
   "metadata": {},
   "outputs": [
    {
     "name": "stdout",
     "output_type": "stream",
     "text": [
      "Overwrite? \"Yes\" / else: \n",
      "Save complete.\n"
     ]
    }
   ],
   "source": [
    "print(\"Overwrite? \\\"Yes\\\" / else: \")\n",
    "user_input = input().lower()\n",
    "if user_input == \"yes\" or user_input == 'y':\n",
    "    PATH = './cnn.pth'\n",
    "    torch.save(model.state_dict(), PATH)\n",
    "    print(\"Save complete.\")\n",
    "else:\n",
    "    PATH = './cnn_backup.pth'\n",
    "    torch.save(model.state_dict(), PATH)\n",
    "    print(\"Original unchanged, Backup overwritten.\")"
   ]
  },
  {
   "cell_type": "markdown",
   "id": "eb476e18bd30968c",
   "metadata": {},
   "source": [
    "# Calculating model performance\n",
    "Load the best version of your model ( which should be produced and saved by previous cells ), calculate and report the test accuracy."
   ]
  },
  {
   "cell_type": "code",
   "execution_count": null,
   "id": "1eaa35096547d04",
   "metadata": {},
   "outputs": [
    {
     "ename": "FileNotFoundError",
     "evalue": "[Errno 2] No such file or directory: 'best_model.pth'",
     "output_type": "error",
     "traceback": [
      "\u001b[31m---------------------------------------------------------------------------\u001b[39m",
      "\u001b[31mFileNotFoundError\u001b[39m                         Traceback (most recent call last)",
      "\u001b[36mCell\u001b[39m\u001b[36m \u001b[39m\u001b[32mIn[4]\u001b[39m\u001b[32m, line 3\u001b[39m\n\u001b[32m      1\u001b[39m \u001b[38;5;66;03m# Load the best model weights\u001b[39;00m\n\u001b[32m      2\u001b[39m model = FoodCNN().to(device)\n\u001b[32m----> \u001b[39m\u001b[32m3\u001b[39m model.load_state_dict(\u001b[43mtorch\u001b[49m\u001b[43m.\u001b[49m\u001b[43mload\u001b[49m\u001b[43m(\u001b[49m\u001b[33;43m\"\u001b[39;49m\u001b[33;43mbest_model.pth\u001b[39;49m\u001b[33;43m\"\u001b[39;49m\u001b[43m)\u001b[49m)\n\u001b[32m      5\u001b[39m final_test_acc = calculate_test_accuracy(model)\n\u001b[32m      6\u001b[39m \u001b[38;5;28mprint\u001b[39m(\u001b[33mf\u001b[39m\u001b[33m\"\u001b[39m\u001b[33mFinal Test Accuracy: \u001b[39m\u001b[38;5;132;01m{\u001b[39;00mfinal_test_acc\u001b[38;5;132;01m:\u001b[39;00m\u001b[33m.2f\u001b[39m\u001b[38;5;132;01m}\u001b[39;00m\u001b[33m%\u001b[39m\u001b[33m\"\u001b[39m)\n",
      "\u001b[36mFile \u001b[39m\u001b[32mc:\\Users\\laith\\AppData\\Local\\Programs\\Python\\Python313\\Lib\\site-packages\\torch\\serialization.py:1479\u001b[39m, in \u001b[36mload\u001b[39m\u001b[34m(f, map_location, pickle_module, weights_only, mmap, **pickle_load_args)\u001b[39m\n\u001b[32m   1476\u001b[39m \u001b[38;5;28;01mif\u001b[39;00m \u001b[33m\"\u001b[39m\u001b[33mencoding\u001b[39m\u001b[33m\"\u001b[39m \u001b[38;5;129;01mnot\u001b[39;00m \u001b[38;5;129;01min\u001b[39;00m pickle_load_args.keys():\n\u001b[32m   1477\u001b[39m     pickle_load_args[\u001b[33m\"\u001b[39m\u001b[33mencoding\u001b[39m\u001b[33m\"\u001b[39m] = \u001b[33m\"\u001b[39m\u001b[33mutf-8\u001b[39m\u001b[33m\"\u001b[39m\n\u001b[32m-> \u001b[39m\u001b[32m1479\u001b[39m \u001b[38;5;28;01mwith\u001b[39;00m \u001b[43m_open_file_like\u001b[49m\u001b[43m(\u001b[49m\u001b[43mf\u001b[49m\u001b[43m,\u001b[49m\u001b[43m \u001b[49m\u001b[33;43m\"\u001b[39;49m\u001b[33;43mrb\u001b[39;49m\u001b[33;43m\"\u001b[39;49m\u001b[43m)\u001b[49m \u001b[38;5;28;01mas\u001b[39;00m opened_file:\n\u001b[32m   1480\u001b[39m     \u001b[38;5;28;01mif\u001b[39;00m _is_zipfile(opened_file):\n\u001b[32m   1481\u001b[39m         \u001b[38;5;66;03m# The zipfile reader is going to advance the current file position.\u001b[39;00m\n\u001b[32m   1482\u001b[39m         \u001b[38;5;66;03m# If we want to actually tail call to torch.jit.load, we need to\u001b[39;00m\n\u001b[32m   1483\u001b[39m         \u001b[38;5;66;03m# reset back to the original position.\u001b[39;00m\n\u001b[32m   1484\u001b[39m         orig_position = opened_file.tell()\n",
      "\u001b[36mFile \u001b[39m\u001b[32mc:\\Users\\laith\\AppData\\Local\\Programs\\Python\\Python313\\Lib\\site-packages\\torch\\serialization.py:759\u001b[39m, in \u001b[36m_open_file_like\u001b[39m\u001b[34m(name_or_buffer, mode)\u001b[39m\n\u001b[32m    757\u001b[39m \u001b[38;5;28;01mdef\u001b[39;00m\u001b[38;5;250m \u001b[39m\u001b[34m_open_file_like\u001b[39m(name_or_buffer: FileLike, mode: \u001b[38;5;28mstr\u001b[39m) -> _opener[IO[\u001b[38;5;28mbytes\u001b[39m]]:\n\u001b[32m    758\u001b[39m     \u001b[38;5;28;01mif\u001b[39;00m _is_path(name_or_buffer):\n\u001b[32m--> \u001b[39m\u001b[32m759\u001b[39m         \u001b[38;5;28;01mreturn\u001b[39;00m \u001b[43m_open_file\u001b[49m\u001b[43m(\u001b[49m\u001b[43mname_or_buffer\u001b[49m\u001b[43m,\u001b[49m\u001b[43m \u001b[49m\u001b[43mmode\u001b[49m\u001b[43m)\u001b[49m\n\u001b[32m    760\u001b[39m     \u001b[38;5;28;01melse\u001b[39;00m:\n\u001b[32m    761\u001b[39m         \u001b[38;5;28;01mif\u001b[39;00m \u001b[33m\"\u001b[39m\u001b[33mw\u001b[39m\u001b[33m\"\u001b[39m \u001b[38;5;129;01min\u001b[39;00m mode:\n",
      "\u001b[36mFile \u001b[39m\u001b[32mc:\\Users\\laith\\AppData\\Local\\Programs\\Python\\Python313\\Lib\\site-packages\\torch\\serialization.py:740\u001b[39m, in \u001b[36m_open_file.__init__\u001b[39m\u001b[34m(self, name, mode)\u001b[39m\n\u001b[32m    739\u001b[39m \u001b[38;5;28;01mdef\u001b[39;00m\u001b[38;5;250m \u001b[39m\u001b[34m__init__\u001b[39m(\u001b[38;5;28mself\u001b[39m, name: Union[\u001b[38;5;28mstr\u001b[39m, os.PathLike[\u001b[38;5;28mstr\u001b[39m]], mode: \u001b[38;5;28mstr\u001b[39m) -> \u001b[38;5;28;01mNone\u001b[39;00m:\n\u001b[32m--> \u001b[39m\u001b[32m740\u001b[39m     \u001b[38;5;28msuper\u001b[39m().\u001b[34m__init__\u001b[39m(\u001b[38;5;28;43mopen\u001b[39;49m\u001b[43m(\u001b[49m\u001b[43mname\u001b[49m\u001b[43m,\u001b[49m\u001b[43m \u001b[49m\u001b[43mmode\u001b[49m\u001b[43m)\u001b[49m)\n",
      "\u001b[31mFileNotFoundError\u001b[39m: [Errno 2] No such file or directory: 'best_model.pth'"
     ]
    }
   ],
   "source": [
    "# Load the best model weights\n",
    "def calculate_test_accuracy(model):\n",
    "    return\n",
    "\n",
    "model = FoodCNN().to(device)\n",
    "model.load_state_dict(torch.load(\"best_model.pth\"))\n",
    "\n",
    "final_test_acc = calculate_test_accuracy(model)\n",
    "print(f\"Final Test Accuracy: {final_test_acc:.2f}%\")\n"
   ]
  },
  {
   "cell_type": "markdown",
   "id": "85ecc6f7f921591e",
   "metadata": {},
   "source": [
    "# Summary of hyperparameters\n",
    "Report the hyperparameters ( learning rate etc ) that you used in your final model for reproducibility."
   ]
  },
  {
   "cell_type": "markdown",
   "id": "d5b6a524e28b431a",
   "metadata": {},
   "source": [
    "# Simulation of random user\n",
    "Pick 10 random pictures of the test set to simulate a user uploading images and report which categories occur how often in these: 1pt"
   ]
  },
  {
   "cell_type": "code",
   "execution_count": null,
   "id": "2b6e8175cacc8dfe",
   "metadata": {
    "ExecuteTime": {
     "end_time": "2025-04-02T17:04:06.539916Z",
     "start_time": "2025-04-02T17:04:05.929092Z"
    }
   },
   "outputs": [],
   "source": [
    "# Your code here\n",
    "# Below an example showing the format of the code output"
   ]
  },
  {
   "cell_type": "markdown",
   "id": "88e7a3634bf6861f",
   "metadata": {},
   "source": [
    "# Bonus point\n",
    "Use an LLM (API) to generate a description of the food preference of a user based on 10 images that a potential user could provide. \n",
    "Please include an example of the output of your code, especially if you used an API other than the OpenAI API.\n",
    "\n",
    "This should work well even with differing test images by setting different random seeds for the image selector."
   ]
  },
  {
   "cell_type": "code",
   "execution_count": null,
   "id": "6819fa0042485dae",
   "metadata": {},
   "outputs": [],
   "source": []
  }
 ],
 "metadata": {
  "kernelspec": {
   "display_name": "Python 3",
   "language": "python",
   "name": "python3"
  },
  "language_info": {
   "codemirror_mode": {
    "name": "ipython",
    "version": 3
   },
   "file_extension": ".py",
   "mimetype": "text/x-python",
   "name": "python",
   "nbconvert_exporter": "python",
   "pygments_lexer": "ipython3",
   "version": "3.13.3"
  }
 },
 "nbformat": 4,
 "nbformat_minor": 5
}
